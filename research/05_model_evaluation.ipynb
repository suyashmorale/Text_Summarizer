{
 "cells": [
  {
   "cell_type": "code",
   "execution_count": 2,
   "metadata": {},
   "outputs": [],
   "source": [
    "import os"
   ]
  },
  {
   "cell_type": "code",
   "execution_count": 1,
   "metadata": {},
   "outputs": [
    {
     "data": {
      "text/plain": [
       "'c:\\\\Users\\\\Suyash\\\\Desktop\\\\End_to_End_projects\\\\Text_Summarizer\\\\research'"
      ]
     },
     "execution_count": 1,
     "metadata": {},
     "output_type": "execute_result"
    }
   ],
   "source": [
    "%pwd\n"
   ]
  },
  {
   "cell_type": "code",
   "execution_count": 3,
   "metadata": {},
   "outputs": [],
   "source": [
    "os.chdir(\"../\")"
   ]
  },
  {
   "cell_type": "code",
   "execution_count": 4,
   "metadata": {},
   "outputs": [
    {
     "data": {
      "text/plain": [
       "'c:\\\\Users\\\\Suyash\\\\Desktop\\\\End_to_End_projects\\\\Text_Summarizer'"
      ]
     },
     "execution_count": 4,
     "metadata": {},
     "output_type": "execute_result"
    }
   ],
   "source": [
    "%pwd"
   ]
  },
  {
   "cell_type": "code",
   "execution_count": 5,
   "metadata": {},
   "outputs": [],
   "source": [
    "# creating entities\n",
    "\n",
    "from dataclasses import dataclass\n",
    "from pathlib import Path\n",
    "\n",
    "@dataclass(frozen=True)\n",
    "class ModelEvaluationConfig:\n",
    "    root_dir: Path\n",
    "    data_path: Path\n",
    "    model_path: Path\n",
    "    tokenizer_path: Path\n",
    "    metric_file_name: Path\n"
   ]
  },
  {
   "cell_type": "code",
   "execution_count": 6,
   "metadata": {},
   "outputs": [],
   "source": [
    "from textsummerizer.constants import *\n",
    "from textsummerizer.utils.common import read_yaml, create_directory"
   ]
  },
  {
   "cell_type": "code",
   "execution_count": 7,
   "metadata": {},
   "outputs": [],
   "source": [
    "# Configurations\n",
    "\n",
    "class ModelEvaluationConfigManager:\n",
    "    def __init__(\n",
    "            self,\n",
    "            config_file_path: CONFIG_FILE_PATH,\n",
    "            params_file_path: PARAMS_FILE_PATH):\n",
    "            \n",
    "            self.config = read_yaml(config_file_path)\n",
    "            self.params = read_yaml(params_file_path)\n",
    "\n",
    "            create_directory([self.config.artifacts_root])\n",
    "\n",
    "    def get_model_evalution_config(self) -> ModelEvaluationConfig:\n",
    "          config = self.config.model_evaluation\n",
    "\n",
    "          model_evaluation_config = ModelEvaluationConfig(\n",
    "              root_dir = config.root_dir,\n",
    "              data_path = config.data_path,\n",
    "              model_path = config.model_path,\n",
    "              tokenizer_path = config.tokenizer_path,\n",
    "              metric_file_name = config.metric_file_name\n",
    "          )\n",
    "\n",
    "          return model_evaluation_config\n",
    "\n",
    "    "
   ]
  },
  {
   "cell_type": "code",
   "execution_count": 8,
   "metadata": {},
   "outputs": [
    {
     "data": {
      "text/plain": [
       "'c:\\\\Users\\\\Suyash\\\\Desktop\\\\End_to_End_projects\\\\Text_Summarizer'"
      ]
     },
     "execution_count": 8,
     "metadata": {},
     "output_type": "execute_result"
    }
   ],
   "source": [
    "%pwd"
   ]
  },
  {
   "cell_type": "code",
   "execution_count": 9,
   "metadata": {},
   "outputs": [],
   "source": [
    "from transformers import AutoTokenizer, AutoModelForSeq2SeqLM\n",
    "from datasets import load_dataset, load_from_disk, load_metric\n",
    "import torch\n",
    "import pandas as pd\n",
    "import tqdm"
   ]
  },
  {
   "cell_type": "code",
   "execution_count": 11,
   "metadata": {},
   "outputs": [],
   "source": [
    "# components for model evaluation\n",
    "\n",
    "class ModelEvaluation:\n",
    "    def __init__(self, config: ModelEvaluationConfig):\n",
    "        self.config = config\n",
    "\n",
    "    # Evalution\n",
    "\n",
    "def generate_batch_sized_chunks(list_of_elements, batch_size):\n",
    "  \"\"\"split the dataset into smaller batches that we can process simultaneously\n",
    "  yield successive batch sized chunks from list_of_elements.\"\"\"\n",
    "\n",
    "  for i in range(0,len(list_of_elements),batch_size):\n",
    "    yield list_of_elements[i:i+batch_size]\n",
    "\n",
    "def calculate_metric_on_test_ds(dataset,metric,model,tokenizer,\n",
    "                                batch_size=16,device=\"cuda\" if torch.cuda.is_available() else \"cpu\",\n",
    "                                column_text=\"article\",\n",
    "                                column_summary=\"highlights\"):\n",
    "  article_batches = list(generate_batch_sized_chunks(dataset[column_text],batch_size))\n",
    "  target_batches = list(generate_batch_sized_chunks(dataset[column_summary],batch_size))\n",
    "\n",
    "  for article_batch, target_batch in tqdm(zip(article_batches,target_batches), total=len(article_batches)):\n",
    "    inputs = tokenizer(article_batch, max_length=1024, truncation=True,\n",
    "                       padding=\"max_length\", return_tensor='pt')\n",
    "    summaries = model.generate(input_ids=inputs[\"input_ids\"].to(device),\n",
    "                               attention_mask=inputs[\"attention_mask\"].to(device),\n",
    "                               length_penalty=0.8, num_beams=8, max_length=128)\n",
    "    '''parameter for length penalty ensures that the model does not generate sequences that are too long'''\n",
    "\n",
    "    # Finally, we decode the generated texts,\n",
    "    # replace the token, and the decoded texts with the references to the metric\n",
    "    decoded_summaries = [tokenizer.decode(s, skip_special_tokens=True,\n",
    "                                          clean_up_tokenization_spaces=True)\n",
    "    for s in summaries]\n",
    "\n",
    "    decoded_summaries = [d.replace(\"\",\" \") for d in decoded_summaries]\n",
    "\n",
    "    metric.add_batch(predictions=decoded_summaries,references=target_batch)\n",
    "\n",
    "  # Finally compute and return the ROUGE scores\n",
    "  score = metric.compute()\n",
    "  return score\n",
    "\n",
    "def eval(self):\n",
    "   device = \"cuda\" if torch.cuda.is_available() else \"cpu\"\n",
    "   tokenizer = AutoTokenizer.from_pretrained(self.config.tokenizer_path)\n",
    "   model_pegasus = AutoModelForSeq2SeqLM.from_pretrained(self.config.model_path).to(device)\n",
    "\n",
    "   dataset_samsum_pt = load_from_disk(self.config.data_path)\n",
    "\n",
    "   rouge_names = [\"rouge1\",\"rouge2\",\"rougeL\",\"rougeLsum\"]\n",
    "   rouge_metric = load_metric('rouge')\n",
    "\n",
    "   score = self.calculate_metric_on_test_ds(\n",
    "      dataset_samsum_pt[\"test\"],rouge_metric,model_pegasus,tokenizer,\n",
    "      batch_size = 2, column_text = 'dialogue', column_summary= 'summary'\n",
    "   )\n",
    "\n",
    "   rouge_dict = dict((rn,score[rn].mid.fmeasure) for rn in rouge_names)\n",
    "\n",
    "   df = pd.DataFrame(rouge_dict,index=['pegasus'])\n",
    "   df.to_save(self.config.metric_file_name,index=False)\n"
   ]
  },
  {
   "cell_type": "code",
   "execution_count": null,
   "metadata": {},
   "outputs": [],
   "source": [
    "# model evaluation pipeline\n",
    "try:\n",
    "    config = ModelEvaluationConfigManager()\n",
    "    model_evaluation_config = config.get_model_evalution_config()\n",
    "    model_evaluation = ModelEvaluation(config=model_evaluation_config)\n",
    "    model_evaluation.eval()\n",
    "except Exception as e:\n",
    "    raise e"
   ]
  }
 ],
 "metadata": {
  "kernelspec": {
   "display_name": "textSummarizer",
   "language": "python",
   "name": "python3"
  },
  "language_info": {
   "codemirror_mode": {
    "name": "ipython",
    "version": 3
   },
   "file_extension": ".py",
   "mimetype": "text/x-python",
   "name": "python",
   "nbconvert_exporter": "python",
   "pygments_lexer": "ipython3",
   "version": "3.8.17"
  }
 },
 "nbformat": 4,
 "nbformat_minor": 2
}
